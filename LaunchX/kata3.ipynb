{
 "cells": [
  {
   "cell_type": "markdown",
   "metadata": {},
   "source": [
    "# Ejercicio - Escribir declaraciones if, else, y elif\n",
    "Para este ejercicio, escribirás una lógica condicional que imprima una advertencia si un asteroide se acerca a la Tierra demasiado rápido. La velocidad del asteroide varía dependiendo de lo cerca que esté del sol, y cualquier velocidad superior a 25 kilómetros por segundo (km/s) merece una advertencia.\n",
    "\n",
    "Un asteroide se acerca, y viaja a una velocidad de 49 km/s."
   ]
  },
  {
   "cell_type": "code",
   "execution_count": null,
   "metadata": {},
   "outputs": [],
   "source": [
    "vel_asteroide=49\n",
    "if vel_asteroide>25:\n",
    "    print(\"Advertencia el asteriode se acerca\")\n",
    "else:\n",
    "    print(\"sigue con tu dia\")"
   ]
  },
  {
   "cell_type": "markdown",
   "metadata": {},
   "source": [
    "Si un asteroide entra en la atmósfera de la Tierra a una velocidad mayor o igual a 20 km/s, a veces produce un rayo de luz que se puede ver desde la Tierra. Escribe la lógica condicional que usa declaraciones if, else, y elif para alertar a las personas de todo el mundo que deben buscar un asteroide en el cielo. ¡Hay uno que se dirige a la tierra ahora a una velocidad de 19 km/s!"
   ]
  },
  {
   "cell_type": "code",
   "execution_count": null,
   "metadata": {},
   "outputs": [],
   "source": [
    "vel_asteroide=19\n",
    "if vel_asteroide>= 20:\n",
    "    print(\"alerta a las personas de todo el mundo que deben buscar un asteroide en el cielo.\")\n",
    "else:\n",
    "    print(\"sigue con tu dia\")"
   ]
  },
  {
   "cell_type": "markdown",
   "metadata": {},
   "source": [
    "# Ejercicio: Uso de operadores and y or\n",
    "El astroide se acerca pero probablemente se quemarán a medida que entren en la atmósfera de la Tierra."
   ]
  },
  {
   "cell_type": "code",
   "execution_count": null,
   "metadata": {},
   "outputs": [],
   "source": [
    "dimension = 999\n",
    "vel_asteroide=26\n",
    "if vel_asteroide >25:\n",
    "    if dimension >25 and dimension<1000:\n",
    "        print(\"El asteroide se acerca, golpeara la Tierra, causara mucho daño.\")\n",
    "    elif dimension < 25:\n",
    "            print(\"El astroide se acerca pero probablemente se quemarán a medida que entren en la atmósfera de la Tierra.\")\n",
    "elif vel_asteroide >= 20:\n",
    "    print(\"alerta a las personas de todo el mundo que deben buscar un asteroide en el cielo.\")\n",
    "else:\n",
    "    print(\"la velocidad del asteriode es menor que 20\")"
   ]
  }
 ],
 "metadata": {
  "interpreter": {
   "hash": "4ed1740ffc680cf470f224d7ace6b44774df1eb997c84cc800c55bbeb96e4e05"
  },
  "kernelspec": {
   "display_name": "Python 3.10.0 64-bit",
   "language": "python",
   "name": "python3"
  },
  "language_info": {
   "codemirror_mode": {
    "name": "ipython",
    "version": 3
   },
   "file_extension": ".py",
   "mimetype": "text/x-python",
   "name": "python",
   "nbconvert_exporter": "python",
   "pygments_lexer": "ipython3",
   "version": "3.10.0"
  },
  "orig_nbformat": 4
 },
 "nbformat": 4,
 "nbformat_minor": 2
}
